{
 "cells": [
  {
   "cell_type": "code",
   "execution_count": 2,
   "id": "d25df321",
   "metadata": {},
   "outputs": [
    {
     "name": "stdout",
     "output_type": "stream",
     "text": [
      "Defaulting to user installation because normal site-packages is not writeable\n",
      "Collecting pandas\n",
      "  Downloading pandas-2.3.1-cp39-cp39-macosx_11_0_arm64.whl (10.8 MB)\n",
      "\u001b[K     |████████████████████████████████| 10.8 MB 2.5 MB/s eta 0:00:01\n",
      "\u001b[?25hCollecting numpy\n",
      "  Downloading numpy-2.0.2-cp39-cp39-macosx_14_0_arm64.whl (5.3 MB)\n",
      "\u001b[K     |████████████████████████████████| 5.3 MB 4.0 MB/s eta 0:00:01\n",
      "\u001b[?25hCollecting scipy\n",
      "  Downloading scipy-1.13.1-cp39-cp39-macosx_12_0_arm64.whl (30.3 MB)\n",
      "\u001b[K     |████████████████████████████████| 30.3 MB 4.3 MB/s eta 0:00:01\n",
      "\u001b[?25hCollecting pytz>=2020.1\n",
      "  Downloading pytz-2025.2-py2.py3-none-any.whl (509 kB)\n",
      "\u001b[K     |████████████████████████████████| 509 kB 4.2 MB/s eta 0:00:01\n",
      "\u001b[?25hRequirement already satisfied: python-dateutil>=2.8.2 in /Users/yadvendrasingh/Library/Python/3.9/lib/python/site-packages (from pandas) (2.9.0.post0)\n",
      "Collecting tzdata>=2022.7\n",
      "  Downloading tzdata-2025.2-py2.py3-none-any.whl (347 kB)\n",
      "\u001b[K     |████████████████████████████████| 347 kB 12.0 MB/s eta 0:00:01\n",
      "\u001b[?25hRequirement already satisfied: six>=1.5 in /Library/Developer/CommandLineTools/Library/Frameworks/Python3.framework/Versions/3.9/lib/python3.9/site-packages (from python-dateutil>=2.8.2->pandas) (1.15.0)\n",
      "Installing collected packages: tzdata, pytz, numpy, scipy, pandas\n",
      "Successfully installed numpy-2.0.2 pandas-2.3.1 pytz-2025.2 scipy-1.13.1 tzdata-2025.2\n",
      "\u001b[33mWARNING: You are using pip version 21.2.4; however, version 25.2 is available.\n",
      "You should consider upgrading via the '/Library/Developer/CommandLineTools/usr/bin/python3 -m pip install --upgrade pip' command.\u001b[0m\n",
      "Note: you may need to restart the kernel to use updated packages.\n"
     ]
    }
   ],
   "source": [
    "pip install pandas numpy scipy"
   ]
  },
  {
   "cell_type": "code",
   "execution_count": 3,
   "id": "3bf9510f",
   "metadata": {},
   "outputs": [],
   "source": [
    "import pandas as pd\n",
    "import numpy as np"
   ]
  },
  {
   "cell_type": "code",
   "execution_count": 4,
   "id": "788323cc",
   "metadata": {},
   "outputs": [],
   "source": [
    "df = pd.read_csv(\"/Users/yadvendrasingh/Downloads/Indian Airlines.csv\")"
   ]
  },
  {
   "cell_type": "code",
   "execution_count": null,
   "id": "35ab8eac",
   "metadata": {},
   "outputs": [],
   "source": [
    "print(\"Shape:\", df.shape)         # Number of rows & columns\n",
    "print(\"\\nColumn names:\", df.columns)\n",
    "print(\"\\nData Types:\\n\", df.dtypes)\n",
    "print(\"\\nMissing Values:\\n\", df.isnull().sum())\n",
    "print(\"\\nFirst 5 rows:\\n\", df.head())\n"
   ]
  },
  {
   "cell_type": "code",
   "execution_count": 5,
   "id": "cb75726f",
   "metadata": {},
   "outputs": [
    {
     "data": {
      "text/plain": [
       "(300153, 12)"
      ]
     },
     "execution_count": 5,
     "metadata": {},
     "output_type": "execute_result"
    }
   ],
   "source": [
    "df.shape"
   ]
  },
  {
   "cell_type": "code",
   "execution_count": 6,
   "id": "16abaaa4",
   "metadata": {},
   "outputs": [
    {
     "data": {
      "text/plain": [
       "Index(['Unnamed: 0', 'airline', 'flight', 'source_city', 'departure_time',\n",
       "       'stops', 'arrival_time', 'destination_city', 'class', 'duration',\n",
       "       'days_left', 'price'],\n",
       "      dtype='object')"
      ]
     },
     "execution_count": 6,
     "metadata": {},
     "output_type": "execute_result"
    }
   ],
   "source": [
    "df.columns"
   ]
  },
  {
   "cell_type": "code",
   "execution_count": 7,
   "id": "9807bc9d",
   "metadata": {},
   "outputs": [],
   "source": [
    "df.columns = df.columns.str.strip().str.lower().str.replace(\" \", \"_\")\n"
   ]
  },
  {
   "cell_type": "code",
   "execution_count": 8,
   "id": "24f66709",
   "metadata": {},
   "outputs": [],
   "source": [
    "df.rename(columns={\n",
    "    'unnamed_0': 'record_id',\n",
    "    'airline': 'airline_name',\n",
    "    'flight': 'flight_number',\n",
    "    'source_city': 'source_city',\n",
    "    'departure_time': 'departure_time',\n",
    "    'stops': 'number_of_stops',\n",
    "    'arrival_time': 'arrival_time',\n",
    "    'destination_city': 'destination_city',\n",
    "    'class': 'travel_class',\n",
    "    'duration': 'flight_duration',\n",
    "    'days_left': 'days_until_departure',\n",
    "    'price': 'ticket_price'\n",
    "}, inplace=True)"
   ]
  },
  {
   "cell_type": "code",
   "execution_count": 9,
   "id": "f3209379",
   "metadata": {},
   "outputs": [
    {
     "data": {
      "text/plain": [
       "Index(['unnamed:_0', 'airline_name', 'flight_number', 'source_city',\n",
       "       'departure_time', 'number_of_stops', 'arrival_time', 'destination_city',\n",
       "       'travel_class', 'flight_duration', 'days_until_departure',\n",
       "       'ticket_price'],\n",
       "      dtype='object')"
      ]
     },
     "execution_count": 9,
     "metadata": {},
     "output_type": "execute_result"
    }
   ],
   "source": [
    "df.columns"
   ]
  },
  {
   "cell_type": "code",
   "execution_count": 11,
   "id": "fd902225",
   "metadata": {},
   "outputs": [
    {
     "data": {
      "text/plain": [
       "<bound method DataFrame.drop_duplicates of         unnamed:_0 airline_name flight_number source_city departure_time  \\\n",
       "0                0     SpiceJet       SG-8709       Delhi        Evening   \n",
       "1                1     SpiceJet       SG-8157       Delhi  Early_Morning   \n",
       "2                2      AirAsia        I5-764       Delhi  Early_Morning   \n",
       "3                3      Vistara        UK-995       Delhi        Morning   \n",
       "4                4      Vistara        UK-963       Delhi        Morning   \n",
       "...            ...          ...           ...         ...            ...   \n",
       "300148      300148      Vistara        UK-822     Chennai        Morning   \n",
       "300149      300149      Vistara        UK-826     Chennai      Afternoon   \n",
       "300150      300150      Vistara        UK-832     Chennai  Early_Morning   \n",
       "300151      300151      Vistara        UK-828     Chennai  Early_Morning   \n",
       "300152      300152      Vistara        UK-822     Chennai        Morning   \n",
       "\n",
       "       number_of_stops   arrival_time destination_city travel_class  \\\n",
       "0                 zero          Night           Mumbai      Economy   \n",
       "1                 zero        Morning           Mumbai      Economy   \n",
       "2                 zero  Early_Morning           Mumbai      Economy   \n",
       "3                 zero      Afternoon           Mumbai      Economy   \n",
       "4                 zero        Morning           Mumbai      Economy   \n",
       "...                ...            ...              ...          ...   \n",
       "300148             one        Evening        Hyderabad     Business   \n",
       "300149             one          Night        Hyderabad     Business   \n",
       "300150             one          Night        Hyderabad     Business   \n",
       "300151             one        Evening        Hyderabad     Business   \n",
       "300152             one        Evening        Hyderabad     Business   \n",
       "\n",
       "        flight_duration  days_until_departure  ticket_price  \n",
       "0                  2.17                     1          5953  \n",
       "1                  2.33                     1          5953  \n",
       "2                  2.17                     1          5956  \n",
       "3                  2.25                     1          5955  \n",
       "4                  2.33                     1          5955  \n",
       "...                 ...                   ...           ...  \n",
       "300148            10.08                    49         69265  \n",
       "300149            10.42                    49         77105  \n",
       "300150            13.83                    49         79099  \n",
       "300151            10.00                    49         81585  \n",
       "300152            10.08                    49         81585  \n",
       "\n",
       "[300153 rows x 12 columns]>"
      ]
     },
     "execution_count": 11,
     "metadata": {},
     "output_type": "execute_result"
    }
   ],
   "source": [
    "df.drop_duplicates"
   ]
  },
  {
   "cell_type": "code",
   "execution_count": 12,
   "id": "3c54ee1f",
   "metadata": {},
   "outputs": [
    {
     "data": {
      "text/html": [
       "<div>\n",
       "<style scoped>\n",
       "    .dataframe tbody tr th:only-of-type {\n",
       "        vertical-align: middle;\n",
       "    }\n",
       "\n",
       "    .dataframe tbody tr th {\n",
       "        vertical-align: top;\n",
       "    }\n",
       "\n",
       "    .dataframe thead th {\n",
       "        text-align: right;\n",
       "    }\n",
       "</style>\n",
       "<table border=\"1\" class=\"dataframe\">\n",
       "  <thead>\n",
       "    <tr style=\"text-align: right;\">\n",
       "      <th></th>\n",
       "      <th>unnamed:_0</th>\n",
       "      <th>airline_name</th>\n",
       "      <th>flight_number</th>\n",
       "      <th>source_city</th>\n",
       "      <th>departure_time</th>\n",
       "      <th>number_of_stops</th>\n",
       "      <th>arrival_time</th>\n",
       "      <th>destination_city</th>\n",
       "      <th>travel_class</th>\n",
       "      <th>flight_duration</th>\n",
       "      <th>days_until_departure</th>\n",
       "      <th>ticket_price</th>\n",
       "    </tr>\n",
       "  </thead>\n",
       "  <tbody>\n",
       "    <tr>\n",
       "      <th>0</th>\n",
       "      <td>0</td>\n",
       "      <td>SpiceJet</td>\n",
       "      <td>SG-8709</td>\n",
       "      <td>Delhi</td>\n",
       "      <td>Evening</td>\n",
       "      <td>zero</td>\n",
       "      <td>Night</td>\n",
       "      <td>Mumbai</td>\n",
       "      <td>Economy</td>\n",
       "      <td>2.17</td>\n",
       "      <td>1</td>\n",
       "      <td>5953</td>\n",
       "    </tr>\n",
       "    <tr>\n",
       "      <th>1</th>\n",
       "      <td>1</td>\n",
       "      <td>SpiceJet</td>\n",
       "      <td>SG-8157</td>\n",
       "      <td>Delhi</td>\n",
       "      <td>Early_Morning</td>\n",
       "      <td>zero</td>\n",
       "      <td>Morning</td>\n",
       "      <td>Mumbai</td>\n",
       "      <td>Economy</td>\n",
       "      <td>2.33</td>\n",
       "      <td>1</td>\n",
       "      <td>5953</td>\n",
       "    </tr>\n",
       "    <tr>\n",
       "      <th>2</th>\n",
       "      <td>2</td>\n",
       "      <td>AirAsia</td>\n",
       "      <td>I5-764</td>\n",
       "      <td>Delhi</td>\n",
       "      <td>Early_Morning</td>\n",
       "      <td>zero</td>\n",
       "      <td>Early_Morning</td>\n",
       "      <td>Mumbai</td>\n",
       "      <td>Economy</td>\n",
       "      <td>2.17</td>\n",
       "      <td>1</td>\n",
       "      <td>5956</td>\n",
       "    </tr>\n",
       "    <tr>\n",
       "      <th>3</th>\n",
       "      <td>3</td>\n",
       "      <td>Vistara</td>\n",
       "      <td>UK-995</td>\n",
       "      <td>Delhi</td>\n",
       "      <td>Morning</td>\n",
       "      <td>zero</td>\n",
       "      <td>Afternoon</td>\n",
       "      <td>Mumbai</td>\n",
       "      <td>Economy</td>\n",
       "      <td>2.25</td>\n",
       "      <td>1</td>\n",
       "      <td>5955</td>\n",
       "    </tr>\n",
       "    <tr>\n",
       "      <th>4</th>\n",
       "      <td>4</td>\n",
       "      <td>Vistara</td>\n",
       "      <td>UK-963</td>\n",
       "      <td>Delhi</td>\n",
       "      <td>Morning</td>\n",
       "      <td>zero</td>\n",
       "      <td>Morning</td>\n",
       "      <td>Mumbai</td>\n",
       "      <td>Economy</td>\n",
       "      <td>2.33</td>\n",
       "      <td>1</td>\n",
       "      <td>5955</td>\n",
       "    </tr>\n",
       "    <tr>\n",
       "      <th>...</th>\n",
       "      <td>...</td>\n",
       "      <td>...</td>\n",
       "      <td>...</td>\n",
       "      <td>...</td>\n",
       "      <td>...</td>\n",
       "      <td>...</td>\n",
       "      <td>...</td>\n",
       "      <td>...</td>\n",
       "      <td>...</td>\n",
       "      <td>...</td>\n",
       "      <td>...</td>\n",
       "      <td>...</td>\n",
       "    </tr>\n",
       "    <tr>\n",
       "      <th>300148</th>\n",
       "      <td>300148</td>\n",
       "      <td>Vistara</td>\n",
       "      <td>UK-822</td>\n",
       "      <td>Chennai</td>\n",
       "      <td>Morning</td>\n",
       "      <td>one</td>\n",
       "      <td>Evening</td>\n",
       "      <td>Hyderabad</td>\n",
       "      <td>Business</td>\n",
       "      <td>10.08</td>\n",
       "      <td>49</td>\n",
       "      <td>69265</td>\n",
       "    </tr>\n",
       "    <tr>\n",
       "      <th>300149</th>\n",
       "      <td>300149</td>\n",
       "      <td>Vistara</td>\n",
       "      <td>UK-826</td>\n",
       "      <td>Chennai</td>\n",
       "      <td>Afternoon</td>\n",
       "      <td>one</td>\n",
       "      <td>Night</td>\n",
       "      <td>Hyderabad</td>\n",
       "      <td>Business</td>\n",
       "      <td>10.42</td>\n",
       "      <td>49</td>\n",
       "      <td>77105</td>\n",
       "    </tr>\n",
       "    <tr>\n",
       "      <th>300150</th>\n",
       "      <td>300150</td>\n",
       "      <td>Vistara</td>\n",
       "      <td>UK-832</td>\n",
       "      <td>Chennai</td>\n",
       "      <td>Early_Morning</td>\n",
       "      <td>one</td>\n",
       "      <td>Night</td>\n",
       "      <td>Hyderabad</td>\n",
       "      <td>Business</td>\n",
       "      <td>13.83</td>\n",
       "      <td>49</td>\n",
       "      <td>79099</td>\n",
       "    </tr>\n",
       "    <tr>\n",
       "      <th>300151</th>\n",
       "      <td>300151</td>\n",
       "      <td>Vistara</td>\n",
       "      <td>UK-828</td>\n",
       "      <td>Chennai</td>\n",
       "      <td>Early_Morning</td>\n",
       "      <td>one</td>\n",
       "      <td>Evening</td>\n",
       "      <td>Hyderabad</td>\n",
       "      <td>Business</td>\n",
       "      <td>10.00</td>\n",
       "      <td>49</td>\n",
       "      <td>81585</td>\n",
       "    </tr>\n",
       "    <tr>\n",
       "      <th>300152</th>\n",
       "      <td>300152</td>\n",
       "      <td>Vistara</td>\n",
       "      <td>UK-822</td>\n",
       "      <td>Chennai</td>\n",
       "      <td>Morning</td>\n",
       "      <td>one</td>\n",
       "      <td>Evening</td>\n",
       "      <td>Hyderabad</td>\n",
       "      <td>Business</td>\n",
       "      <td>10.08</td>\n",
       "      <td>49</td>\n",
       "      <td>81585</td>\n",
       "    </tr>\n",
       "  </tbody>\n",
       "</table>\n",
       "<p>300153 rows × 12 columns</p>\n",
       "</div>"
      ],
      "text/plain": [
       "        unnamed:_0 airline_name flight_number source_city departure_time  \\\n",
       "0                0     SpiceJet       SG-8709       Delhi        Evening   \n",
       "1                1     SpiceJet       SG-8157       Delhi  Early_Morning   \n",
       "2                2      AirAsia        I5-764       Delhi  Early_Morning   \n",
       "3                3      Vistara        UK-995       Delhi        Morning   \n",
       "4                4      Vistara        UK-963       Delhi        Morning   \n",
       "...            ...          ...           ...         ...            ...   \n",
       "300148      300148      Vistara        UK-822     Chennai        Morning   \n",
       "300149      300149      Vistara        UK-826     Chennai      Afternoon   \n",
       "300150      300150      Vistara        UK-832     Chennai  Early_Morning   \n",
       "300151      300151      Vistara        UK-828     Chennai  Early_Morning   \n",
       "300152      300152      Vistara        UK-822     Chennai        Morning   \n",
       "\n",
       "       number_of_stops   arrival_time destination_city travel_class  \\\n",
       "0                 zero          Night           Mumbai      Economy   \n",
       "1                 zero        Morning           Mumbai      Economy   \n",
       "2                 zero  Early_Morning           Mumbai      Economy   \n",
       "3                 zero      Afternoon           Mumbai      Economy   \n",
       "4                 zero        Morning           Mumbai      Economy   \n",
       "...                ...            ...              ...          ...   \n",
       "300148             one        Evening        Hyderabad     Business   \n",
       "300149             one          Night        Hyderabad     Business   \n",
       "300150             one          Night        Hyderabad     Business   \n",
       "300151             one        Evening        Hyderabad     Business   \n",
       "300152             one        Evening        Hyderabad     Business   \n",
       "\n",
       "        flight_duration  days_until_departure  ticket_price  \n",
       "0                  2.17                     1          5953  \n",
       "1                  2.33                     1          5953  \n",
       "2                  2.17                     1          5956  \n",
       "3                  2.25                     1          5955  \n",
       "4                  2.33                     1          5955  \n",
       "...                 ...                   ...           ...  \n",
       "300148            10.08                    49         69265  \n",
       "300149            10.42                    49         77105  \n",
       "300150            13.83                    49         79099  \n",
       "300151            10.00                    49         81585  \n",
       "300152            10.08                    49         81585  \n",
       "\n",
       "[300153 rows x 12 columns]"
      ]
     },
     "execution_count": 12,
     "metadata": {},
     "output_type": "execute_result"
    }
   ],
   "source": [
    "df"
   ]
  },
  {
   "cell_type": "code",
   "execution_count": 13,
   "id": "cf2b3c6d",
   "metadata": {},
   "outputs": [],
   "source": [
    "numeric_cols = df.select_dtypes(include=[np.number]).columns\n",
    "for col in numeric_cols:\n",
    "    df[col] = df[col].fillna(df[col].mean())"
   ]
  },
  {
   "cell_type": "code",
   "execution_count": 14,
   "id": "74810564",
   "metadata": {},
   "outputs": [],
   "source": [
    "categorical_cols = df.select_dtypes(include=[\"object\"]).columns\n",
    "for col in categorical_cols:\n",
    "    df[col] = df[col].fillna(df[col].mode()[0])"
   ]
  },
  {
   "cell_type": "markdown",
   "id": "9ca8b147",
   "metadata": {},
   "source": [
    "# Convert date columns if any"
   ]
  },
  {
   "cell_type": "code",
   "execution_count": 17,
   "id": "cc552539",
   "metadata": {},
   "outputs": [],
   "source": [
    "if 'departure_date' in df.columns:\n",
    "    df['departure_date'] = pd.to_datetime(df['departure_date'], errors='coerce')\n",
    "if 'arrival_date' in df.columns:\n",
    "    df['arrival_date'] = pd.to_datetime(df['arrival_date'], errors='coerce')\n"
   ]
  },
  {
   "cell_type": "code",
   "execution_count": 18,
   "id": "83d8a6a6",
   "metadata": {},
   "outputs": [],
   "source": [
    "for col in categorical_cols:\n",
    "    df[col] = df[col].str.strip().str.title()\n"
   ]
  },
  {
   "cell_type": "markdown",
   "id": "8e6c67d7",
   "metadata": {},
   "source": [
    "Stasticstic"
   ]
  },
  {
   "cell_type": "code",
   "execution_count": 20,
   "id": "b0605e6b",
   "metadata": {},
   "outputs": [
    {
     "name": "stdout",
     "output_type": "stream",
     "text": [
      "\n",
      "Outliers per numeric column:\n",
      " unnamed:_0                0\n",
      "flight_duration         722\n",
      "days_until_departure      0\n",
      "ticket_price            602\n",
      "dtype: int64\n"
     ]
    }
   ],
   "source": [
    "from scipy import stats\n",
    "z_scores = np.abs(stats.zscore(df[numeric_cols]))\n",
    "outliers = (z_scores > 3).sum()\n",
    "print(\"\\nOutliers per numeric column:\\n\", outliers)\n"
   ]
  },
  {
   "cell_type": "code",
   "execution_count": 22,
   "id": "c808d1c9",
   "metadata": {},
   "outputs": [
    {
     "name": "stdout",
     "output_type": "stream",
     "text": [
      "\n",
      " Data cleaning complete! Saved as 'Indian_Airlines_Cleaned.csv'\n"
     ]
    }
   ],
   "source": [
    "df.to_csv(\"/Users/yadvendrasingh/Downloads/Indian Airlines.csv\", index=False)\n",
    "print(\"\\n Data cleaning complete! Saved as 'Indian_Airlines_Cleaned.csv'\")"
   ]
  }
 ],
 "metadata": {
  "kernelspec": {
   "display_name": "Python 3",
   "language": "python",
   "name": "python3"
  },
  "language_info": {
   "codemirror_mode": {
    "name": "ipython",
    "version": 3
   },
   "file_extension": ".py",
   "mimetype": "text/x-python",
   "name": "python",
   "nbconvert_exporter": "python",
   "pygments_lexer": "ipython3",
   "version": "3.9.6"
  }
 },
 "nbformat": 4,
 "nbformat_minor": 5
}
